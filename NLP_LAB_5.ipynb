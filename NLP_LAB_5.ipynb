{
  "nbformat": 4,
  "nbformat_minor": 0,
  "metadata": {
    "colab": {
      "provenance": []
    },
    "kernelspec": {
      "name": "python3",
      "display_name": "Python 3"
    },
    "language_info": {
      "name": "python"
    }
  },
  "cells": [
    {
      "cell_type": "markdown",
      "source": [
        "* Name: Nileem Kaveramma C C\n",
        "* Roll number: 2348441"
      ],
      "metadata": {
        "id": "05xV-6sxIc8Q"
      }
    },
    {
      "cell_type": "markdown",
      "source": [
        "* **Sparse Vector** in the Context of Embeddings:\n",
        "In the context of machine learning and natural language processing (NLP), sparse embeddings refer to representations where a word or an entity is represented by a high-dimensional vector, where most of the dimensions are zero. A common use of sparse embeddings is in one-hot encoding or bag-of-words (BoW) representations.\n",
        "\n",
        "Key Points about Sparse Embeddings:\n",
        "* **One-Hot Encoding**: In NLP, a sparse embedding might be a one-hot encoded vector, where each unique word in a vocabulary is represented by a vector that is zero in all positions except for one, which is set to 1. For example, in a vocabulary of 10,000 words\n",
        "* **Bag-of-Words (BoW):** Another common use of sparse embeddings is in BoW models, where a document is represented by a sparse vector of word counts, with many words not appearing in the document having a count of zero.\n",
        "\n"
      ],
      "metadata": {
        "id": "wRwdDHPrJg4B"
      }
    },
    {
      "cell_type": "markdown",
      "source": [
        "a) Consider the table of term frequencies for 3 documents denoted Doc1, Doc2, Doc3 in the given table.\n",
        "* Compute the tf-idf weights for the terms car, auto, insurance, best, for each document, using the idf\n",
        "values and calculate the score for any user query q. [example query: “car insurance”, “best car” ]"
      ],
      "metadata": {
        "id": "MSAprS27tCud"
      }
    },
    {
      "cell_type": "markdown",
      "source": [
        "**Term Frequency (TF):**\n",
        "\n",
        "Measures how frequently a word appears in a document relative to the total number of words in that document.\n",
        "* **Inverse Document Frequency (IDF):**\n",
        "\n",
        "Measures how common or rare a word is across all documents in a corpus. If a word appears in many documents, its IDF value decreases, as it is considered less informative."
      ],
      "metadata": {
        "id": "9ahdPU6hKNaM"
      }
    },
    {
      "cell_type": "code",
      "execution_count": null,
      "metadata": {
        "colab": {
          "base_uri": "https://localhost:8080/"
        },
        "id": "I6NWkmQXs9WA",
        "outputId": "6f2610dd-72ef-42b8-e76d-17bd37659088"
      },
      "outputs": [
        {
          "output_type": "stream",
          "name": "stdout",
          "text": [
            "TF-IDF Weights:\n",
            "Doc1: {'car': 44.55, 'auto': 6.24, 'insurance': 0.0, 'best': 21.0}\n",
            "Doc2: {'car': 6.6, 'auto': 68.64, 'insurance': 53.46, 'best': 0.0}\n",
            "Doc3: {'car': 39.599999999999994, 'auto': 0.0, 'insurance': 46.980000000000004, 'best': 25.5}\n",
            "\n",
            "Scores for query 'car insurance': defaultdict(<class 'float'>, {'Doc1': 44.55, 'Doc2': 60.06, 'Doc3': 86.58})\n",
            "Scores for query 'best car': defaultdict(<class 'float'>, {'Doc1': 65.55, 'Doc2': 6.6, 'Doc3': 65.1})\n"
          ]
        }
      ],
      "source": [
        "import math\n",
        "from collections import defaultdict\n",
        "\n",
        "# Term frequencies from the table\n",
        "tf = {\n",
        "    'Doc1': {'car': 27, 'auto': 3, 'insurance': 0, 'best': 14},\n",
        "    'Doc2': {'car': 4, 'auto': 33, 'insurance': 33, 'best': 0},\n",
        "    'Doc3': {'car': 24, 'auto': 0, 'insurance': 29, 'best': 17},\n",
        "}\n",
        "\n",
        "# IDF values from the table\n",
        "idf = {\n",
        "    'car': 1.65,\n",
        "    'auto': 2.08,\n",
        "    'insurance': 1.62,\n",
        "    'best': 1.5,\n",
        "}\n",
        "\n",
        "# Function to calculate tf-idf\n",
        "def calculate_tf_idf(tf, idf):\n",
        "    tf_idf = defaultdict(dict)\n",
        "    for doc, terms in tf.items():\n",
        "        for term, frequency in terms.items():\n",
        "            if term in idf:\n",
        "                tf_idf[doc][term] = frequency * idf[term]\n",
        "    return tf_idf\n",
        "\n",
        "# Function to compute score for a query\n",
        "def compute_query_score(query, tf_idf):\n",
        "    query_terms = query.split()\n",
        "    doc_scores = defaultdict(float)\n",
        "\n",
        "    for doc, terms in tf_idf.items():\n",
        "        for term in query_terms:\n",
        "            if term in terms:\n",
        "                doc_scores[doc] += terms[term]\n",
        "\n",
        "    return doc_scores\n",
        "\n",
        "# Calculate tf-idf for each document\n",
        "tf_idf_weights = calculate_tf_idf(tf, idf)\n",
        "\n",
        "# Example query\n",
        "query_1 = \"car insurance\"\n",
        "query_2 = \"best car\"\n",
        "\n",
        "# Compute scores for the queries\n",
        "score_query_1 = compute_query_score(query_1, tf_idf_weights)\n",
        "score_query_2 = compute_query_score(query_2, tf_idf_weights)\n",
        "\n",
        "# Output results\n",
        "print(\"TF-IDF Weights:\")\n",
        "for doc, weights in tf_idf_weights.items():\n",
        "    print(f\"{doc}: {weights}\")\n",
        "\n",
        "print(\"\\nScores for query 'car insurance':\", score_query_1)\n",
        "print(\"Scores for query 'best car':\", score_query_2)\n"
      ]
    },
    {
      "cell_type": "markdown",
      "source": [
        "Apply Euclidean normalization to the tf values from the question 1 a) and generate a table similar to\n",
        "the one given below."
      ],
      "metadata": {
        "id": "38fNFooluUxz"
      }
    },
    {
      "cell_type": "code",
      "source": [
        "import numpy as np\n",
        "from collections import defaultdict\n",
        "\n",
        "# Term frequencies from the previous part (same as before)\n",
        "tf = {\n",
        "    'Doc1': {'car': 27, 'auto': 3, 'insurance': 0, 'best': 14},\n",
        "    'Doc2': {'car': 4, 'auto': 33, 'insurance': 33, 'best': 0},\n",
        "    'Doc3': {'car': 24, 'auto': 0, 'insurance': 29, 'best': 17},\n",
        "}\n",
        "\n",
        "# Function to calculate the Euclidean norm for a document\n",
        "def euclidean_norm(terms):\n",
        "    norm = np.sqrt(sum(frequency ** 2 for frequency in terms.values()))\n",
        "    return norm\n",
        "\n",
        "# Function to normalize TF using Euclidean norm\n",
        "def normalize_tf(tf):\n",
        "    normalized_tf = defaultdict(dict)\n",
        "    for doc, terms in tf.items():\n",
        "        norm = euclidean_norm(terms)\n",
        "        for term, frequency in terms.items():\n",
        "            normalized_tf[doc][term] = frequency / norm if norm != 0 else 0\n",
        "    return normalized_tf\n",
        "\n",
        "# Apply normalization\n",
        "normalized_tf = normalize_tf(tf)\n",
        "\n",
        "# Display normalized TF values\n",
        "print(\"Euclidean Normalized Term Frequencies:\")\n",
        "for doc, terms in normalized_tf.items():\n",
        "    print(f\"{doc}: {terms}\")\n"
      ],
      "metadata": {
        "colab": {
          "base_uri": "https://localhost:8080/"
        },
        "id": "y7T_u9IwtoxT",
        "outputId": "296105e2-b72e-47eb-993d-6f9413cdfc23"
      },
      "execution_count": null,
      "outputs": [
        {
          "output_type": "stream",
          "name": "stdout",
          "text": [
            "Euclidean Normalized Term Frequencies:\n",
            "Doc1: {'car': 0.8834669878549793, 'auto': 0.09816299865055327, 'insurance': 0.0, 'best': 0.4580939937025819}\n",
            "Doc2: {'car': 0.08539681625254598, 'auto': 0.7045237340835044, 'insurance': 0.7045237340835044, 'best': 0.0}\n",
            "Doc3: {'car': 0.5810610014929909, 'auto': 0.0, 'insurance': 0.7021153768040307, 'best': 0.4115848760575352}\n"
          ]
        }
      ]
    },
    {
      "cell_type": "markdown",
      "source": [
        "Cosine Similarity - Compute the nearest neighbours of a word in a vector space using cosine score.\n",
        "* a. Collect N documents as input.\n",
        "* b. Generate a matrix of word embeddings.\n",
        "* c. Plot a few words to understand the similarity based on the word embedding.\n",
        "* d. Compute the nearest word of any given word using cosine scores.\n",
        "* e. Plot all words nearest to a given word x.\n",
        "* Eg: man : king = woman : X"
      ],
      "metadata": {
        "id": "BWTz4mTpuK3D"
      }
    },
    {
      "cell_type": "code",
      "source": [
        "# Import libraries\n",
        "import numpy as np\n",
        "import matplotlib.pyplot as plt\n",
        "from sklearn.decomposition import PCA\n",
        "from sklearn.metrics.pairwise import cosine_similarity\n",
        "import gensim.downloader as api  # To download pre-trained word embeddings\n",
        "from sklearn.manifold import TSNE\n",
        "\n",
        "# Load a pre-trained Word2Vec model from Gensim\n",
        "model = api.load(\"glove-wiki-gigaword-100\")  # GloVe embeddings with 100 dimensions\n",
        "\n",
        "# Function to compute cosine similarity between two word embeddings\n",
        "def cosine_similarity_word(word1, word2):\n",
        "    vec1 = model[word1]\n",
        "    vec2 = model[word2]\n",
        "    cosine_sim = cosine_similarity([vec1], [vec2])\n",
        "    return cosine_sim[0][0]\n",
        "\n",
        "# Function to get nearest neighbors of a word using cosine similarity\n",
        "def get_nearest_neighbors(word, top_n=5):\n",
        "    word_vector = model[word]\n",
        "    similarities = {}\n",
        "\n",
        "    for other_word in model.key_to_index:  # Iterate over all words in vocabulary\n",
        "        if other_word != word:\n",
        "            similarity = cosine_similarity([word_vector], [model[other_word]])[0][0]\n",
        "            similarities[other_word] = similarity\n",
        "\n",
        "    # Sort by highest similarity and return top N results\n",
        "    sorted_similarities = sorted(similarities.items(), key=lambda x: x[1], reverse=True)\n",
        "    return sorted_similarities[:top_n]\n",
        "\n",
        "# Function to plot words in 2D space\n",
        "def plot_words(word_list):\n",
        "    word_vectors = np.array([model[word] for word in word_list])\n",
        "\n",
        "    # Reduce dimensions to 2D using PCA or TSNE\n",
        "    pca = PCA(n_components=2)\n",
        "    word_vectors_2d = pca.fit_transform(word_vectors)\n",
        "\n",
        "    # Plot the words\n",
        "    plt.figure(figsize=(8, 6))\n",
        "    for i, word in enumerate(word_list):\n",
        "        plt.scatter(word_vectors_2d[i, 0], word_vectors_2d[i, 1])\n",
        "        plt.text(word_vectors_2d[i, 0] + 0.02, word_vectors_2d[i, 1] + 0.02, word, fontsize=12)\n",
        "\n",
        "    plt.title(\"Word Embedding Similarity in 2D Space\")\n",
        "    plt.show()\n",
        "\n",
        "# Example: Find the nearest neighbors of 'man'\n",
        "nearest_neighbors = get_nearest_neighbors('man', top_n=5)\n",
        "print(f\"Nearest neighbors of 'man': {nearest_neighbors}\")\n",
        "\n",
        "# Example: Find analogy 'man : king = woman : ?'\n",
        "def analogy(word1, word2, word3):\n",
        "    vec = model[word2] - model[word1] + model[word3]\n",
        "    result = model.similar_by_vector(vec, topn=1)\n",
        "    return result\n",
        "\n",
        "result = analogy('man', 'king', 'woman')\n",
        "print(f\"man : king = woman : {result[0][0]}\")\n",
        "\n",
        "# Example: Plot 'man', 'woman', 'king', 'queen'\n",
        "plot_words(['man', 'woman', 'king', 'queen'])\n"
      ],
      "metadata": {
        "colab": {
          "base_uri": "https://localhost:8080/",
          "height": 617
        },
        "id": "aag070lDuCtZ",
        "outputId": "559a2334-14fd-4c63-d33c-81be82c4fae6"
      },
      "execution_count": null,
      "outputs": [
        {
          "output_type": "stream",
          "name": "stdout",
          "text": [
            "[==================================================] 100.0% 128.1/128.1MB downloaded\n",
            "Nearest neighbors of 'man': [('woman', 0.8323495), ('boy', 0.79148716), ('one', 0.7788749), ('person', 0.7526817), ('another', 0.7522236)]\n",
            "man : king = woman : king\n"
          ]
        },
        {
          "output_type": "display_data",
          "data": {
            "text/plain": [
              "<Figure size 800x600 with 1 Axes>"
            ],
            "image/png": "[encoded data removed]"
          },
          "metadata": {}
        }
      ]
    },
    {
      "cell_type": "markdown",
      "source": [
        "3) Pointwise Mutual Information (PMI): Use PMI when low co-occurances of words exists"
      ],
      "metadata": {
        "id": "24hHxGzBuii2"
      }
    },
    {
      "cell_type": "code",
      "source": [
        "import numpy as np\n",
        "from collections import defaultdict\n",
        "import math\n",
        "\n",
        "# Example corpus of documents (list of lists where each inner list is a document)\n",
        "corpus = [\n",
        "    [\"car\", \"auto\", \"insurance\", \"best\"],\n",
        "    [\"car\", \"insurance\", \"best\"],\n",
        "    [\"auto\", \"insurance\", \"car\"],\n",
        "    [\"insurance\", \"best\", \"auto\"]\n",
        "]\n",
        "\n",
        "# Build word frequencies and co-occurrences\n",
        "word_freq = defaultdict(int)\n",
        "pair_freq = defaultdict(int)\n",
        "total_word_count = 0\n",
        "\n",
        "# Count word frequencies and co-occurrences\n",
        "for doc in corpus:\n",
        "    total_word_count += len(doc)\n",
        "    for word in doc:\n",
        "        word_freq[word] += 1\n",
        "    for i, word_i in enumerate(doc):\n",
        "        for j, word_j in enumerate(doc):\n",
        "            if i != j:\n",
        "                pair_freq[(word_i, word_j)] += 1\n",
        "\n",
        "# Compute PMI\n",
        "def compute_pmi(word_i, word_j):\n",
        "    p_wi = word_freq[word_i] / total_word_count\n",
        "    p_wj = word_freq[word_j] / total_word_count\n",
        "    p_wi_wj = pair_freq[(word_i, word_j)] / total_word_count\n",
        "\n",
        "    if p_wi_wj > 0:  # Avoid log of 0\n",
        "        pmi = math.log(p_wi_wj / (p_wi * p_wj), 2)  # Using log base 2\n",
        "        return pmi\n",
        "    else:\n",
        "        return 0  # No co-occurrence results in PMI = 0\n",
        "\n",
        "# Compute PMI matrix\n",
        "words = list(word_freq.keys())\n",
        "pmi_matrix = np.zeros((len(words), len(words)))\n",
        "\n",
        "for i, word_i in enumerate(words):\n",
        "    for j, word_j in enumerate(words):\n",
        "        if i != j:\n",
        "            pmi_matrix[i, j] = compute_pmi(word_i, word_j)\n",
        "\n",
        "# Print the PMI matrix\n",
        "print(\"PMI Matrix:\")\n",
        "print(pmi_matrix)\n",
        "\n",
        "# Example: Recalculate similarity score using PMI between 'car' and 'insurance'\n",
        "car_idx = words.index(\"car\")\n",
        "insurance_idx = words.index(\"insurance\")\n",
        "pmi_car_insurance = pmi_matrix[car_idx, insurance_idx]\n",
        "print(f\"PMI between 'car' and 'insurance': {pmi_car_insurance}\")\n",
        "\n"
      ],
      "metadata": {
        "colab": {
          "base_uri": "https://localhost:8080/"
        },
        "id": "UWE9PqkyuZU9",
        "outputId": "97c6ecc5-74a8-4fd6-9955-3a619c582d2a"
      },
      "execution_count": null,
      "outputs": [
        {
          "output_type": "stream",
          "name": "stdout",
          "text": [
            "PMI Matrix:\n",
            "[[0.         1.53051472 1.70043972 1.53051472]\n",
            " [1.53051472 0.         1.70043972 1.53051472]\n",
            " [1.70043972 1.70043972 0.         1.70043972]\n",
            " [1.53051472 1.53051472 1.70043972 0.        ]]\n",
            "PMI between 'car' and 'insurance': 1.7004397181410922\n"
          ]
        }
      ]
    },
    {
      "cell_type": "code",
      "source": [],
      "metadata": {
        "id": "NPS8xeBVvy69"
      },
      "execution_count": null,
      "outputs": []
    }
  ]
}